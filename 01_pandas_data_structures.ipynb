{
 "cells": [
  {
   "cell_type": "markdown",
   "metadata": {},
   "source": [
    "# Pandas数据结构"
   ]
  },
  {
   "cell_type": "markdown",
   "metadata": {},
   "source": [
    "* 1.Series:一维数组\n",
    "* 2.DataFrame:多维数组/表格\n",
    "* 3.Index: 索引对象--不可变（immutable）"
   ]
  },
  {
   "cell_type": "code",
   "execution_count": 13,
   "metadata": {},
   "outputs": [],
   "source": [
    "import pandas as pd"
   ]
  },
  {
   "cell_type": "markdown",
   "metadata": {},
   "source": [
    "* Series"
   ]
  },
  {
   "cell_type": "code",
   "execution_count": 14,
   "metadata": {},
   "outputs": [
    {
     "name": "stdout",
     "output_type": "stream",
     "text": [
      "<class 'pandas.core.series.Series'>\n"
     ]
    }
   ],
   "source": [
    "# 通过list构建Series\n",
    "ser_obj = pd.Series(range(10, 20))\n",
    "print(type(ser_obj))"
   ]
  },
  {
   "cell_type": "code",
   "execution_count": 15,
   "metadata": {},
   "outputs": [
    {
     "name": "stdout",
     "output_type": "stream",
     "text": [
      "[10 11 12 13 14 15 16 17 18 19]\n",
      "<class 'pandas.core.indexes.range.RangeIndex'>\n"
     ]
    }
   ],
   "source": [
    "# 获取数据\n",
    "print(ser_obj.values)\n",
    "\n",
    "# 获取索引\n",
    "print(type(ser_obj.index))"
   ]
  },
  {
   "cell_type": "code",
   "execution_count": 16,
   "metadata": {},
   "outputs": [
    {
     "name": "stdout",
     "output_type": "stream",
     "text": [
      "0    10\n",
      "1    11\n",
      "2    12\n",
      "3    13\n",
      "4    14\n",
      "dtype: int64\n"
     ]
    }
   ],
   "source": [
    "# 预览数据\n",
    "print(ser_obj.head())"
   ]
  },
  {
   "cell_type": "code",
   "execution_count": 17,
   "metadata": {},
   "outputs": [
    {
     "name": "stdout",
     "output_type": "stream",
     "text": [
      "0    10\n",
      "1    11\n",
      "2    12\n",
      "3    13\n",
      "4    14\n",
      "5    15\n",
      "6    16\n",
      "7    17\n",
      "8    18\n",
      "9    19\n",
      "dtype: int64\n"
     ]
    }
   ],
   "source": [
    "print(ser_obj)"
   ]
  },
  {
   "cell_type": "code",
   "execution_count": 18,
   "metadata": {},
   "outputs": [
    {
     "name": "stdout",
     "output_type": "stream",
     "text": [
      "10\n",
      "18\n"
     ]
    }
   ],
   "source": [
    "#通过索引获取数据\n",
    "print(ser_obj[0])\n",
    "print(ser_obj[8])"
   ]
  },
  {
   "cell_type": "code",
   "execution_count": 19,
   "metadata": {},
   "outputs": [
    {
     "name": "stdout",
     "output_type": "stream",
     "text": [
      "0    20\n",
      "1    22\n",
      "2    24\n",
      "3    26\n",
      "4    28\n",
      "5    30\n",
      "6    32\n",
      "7    34\n",
      "8    36\n",
      "9    38\n",
      "dtype: int64\n",
      "6    16\n",
      "7    17\n",
      "8    18\n",
      "9    19\n",
      "dtype: int64\n"
     ]
    }
   ],
   "source": [
    "# 索引与数据的对应关系仍保持在数组运算的结果中\n",
    "print(ser_obj * 2)\n",
    "print(ser_obj[ser_obj > 15])"
   ]
  },
  {
   "cell_type": "code",
   "execution_count": 20,
   "metadata": {},
   "outputs": [
    {
     "name": "stdout",
     "output_type": "stream",
     "text": [
      "2001    17.8\n",
      "2002    20.1\n",
      "2003    16.5\n",
      "dtype: float64\n",
      "Int64Index([2001, 2002, 2003], dtype='int64')\n"
     ]
    }
   ],
   "source": [
    "# 通过dict构建Series\n",
    "year_data = {2001: 17.8, 2002: 20.1, 2003: 16.5}\n",
    "ser_obj2 = pd.Series(year_data)\n",
    "print(ser_obj2.head())\n",
    "print(ser_obj2.index)"
   ]
  },
  {
   "cell_type": "code",
   "execution_count": 21,
   "metadata": {},
   "outputs": [
    {
     "name": "stdout",
     "output_type": "stream",
     "text": [
      "year\n",
      "2001    17.8\n",
      "2002    20.1\n",
      "2003    16.5\n",
      "Name: temp, dtype: float64\n"
     ]
    }
   ],
   "source": [
    "# name属性\n",
    "ser_obj2.name = 'temp'\n",
    "ser_obj2.index.name = 'year'\n",
    "print(ser_obj2.head())"
   ]
  },
  {
   "cell_type": "markdown",
   "metadata": {},
   "source": [
    "* DataFrame"
   ]
  },
  {
   "cell_type": "code",
   "execution_count": 22,
   "metadata": {},
   "outputs": [
    {
     "name": "stdout",
     "output_type": "stream",
     "text": [
      "[[-0.12980412  1.57584919 -0.30599626  1.23293662]\n",
      " [-0.36875619 -0.54241018 -0.00637239  1.48239652]\n",
      " [-0.54394821 -0.9364406  -0.32030949  1.77819459]\n",
      " [-1.71627871 -0.89612579 -0.07359301  0.01259354]\n",
      " [-0.61566577  1.49400383 -0.51759956 -0.32667468]]\n",
      "          0         1         2         3\n",
      "0 -0.129804  1.575849 -0.305996  1.232937\n",
      "1 -0.368756 -0.542410 -0.006372  1.482397\n",
      "2 -0.543948 -0.936441 -0.320309  1.778195\n",
      "3 -1.716279 -0.896126 -0.073593  0.012594\n",
      "4 -0.615666  1.494004 -0.517600 -0.326675\n"
     ]
    }
   ],
   "source": [
    "import numpy as np\n",
    "\n",
    "# 通过ndarray构建DataFrame\n",
    "array = np.random.randn(5,4)\n",
    "print(array)\n",
    "\n",
    "df_obj = pd.DataFrame(array)\n",
    "print(df_obj.head())"
   ]
  },
  {
   "cell_type": "code",
   "execution_count": 23,
   "metadata": {},
   "outputs": [
    {
     "name": "stdout",
     "output_type": "stream",
     "text": [
      "     A          B    C  D       E            F\n",
      "0  1.0 2016-12-17  1.0  3  Python  ChinaHadoop\n",
      "1  1.0 2016-12-17  1.0  3    Java  ChinaHadoop\n",
      "2  1.0 2016-12-17  1.0  3     C++  ChinaHadoop\n",
      "3  1.0 2016-12-17  1.0  3      C#  ChinaHadoop\n"
     ]
    }
   ],
   "source": [
    "# 通过dict构建DataFrame\n",
    "dict_data = {'A': 1., \n",
    "             'B': pd.Timestamp('20161217'),\n",
    "             'C': pd.Series(1, index=list(range(4)),dtype='float32'),\n",
    "             'D': np.array([3] * 4,dtype='int32'),\n",
    "             'E' : pd.Categorical([\"Python\",\"Java\",\"C++\",\"C#\"]),\n",
    "             'F' : 'ChinaHadoop' }\n",
    "#print dict_data\n",
    "df_obj2 = pd.DataFrame(dict_data)\n",
    "print(df_obj2.head())"
   ]
  },
  {
   "cell_type": "code",
   "execution_count": 24,
   "metadata": {},
   "outputs": [
    {
     "name": "stdout",
     "output_type": "stream",
     "text": [
      "0    1.0\n",
      "1    1.0\n",
      "2    1.0\n",
      "3    1.0\n",
      "Name: A, dtype: float64\n",
      "<class 'pandas.core.series.Series'>\n",
      "0    1.0\n",
      "1    1.0\n",
      "2    1.0\n",
      "3    1.0\n",
      "Name: A, dtype: float64\n"
     ]
    }
   ],
   "source": [
    "# 通过列索引获取列数据\n",
    "print(df_obj2['A'])\n",
    "print(type(df_obj2['A']))\n",
    "\n",
    "print(df_obj2.A)"
   ]
  },
  {
   "cell_type": "code",
   "execution_count": 25,
   "metadata": {},
   "outputs": [
    {
     "name": "stdout",
     "output_type": "stream",
     "text": [
      "     A          B    C  D       E            F  G\n",
      "0  1.0 2016-12-17  1.0  3  Python  ChinaHadoop  7\n",
      "1  1.0 2016-12-17  1.0  3    Java  ChinaHadoop  7\n",
      "2  1.0 2016-12-17  1.0  3     C++  ChinaHadoop  7\n",
      "3  1.0 2016-12-17  1.0  3      C#  ChinaHadoop  7\n"
     ]
    }
   ],
   "source": [
    "# 增加列\n",
    "df_obj2['G'] = df_obj2['D'] + 4\n",
    "print(df_obj2.head())"
   ]
  },
  {
   "cell_type": "code",
   "execution_count": 26,
   "metadata": {},
   "outputs": [
    {
     "name": "stdout",
     "output_type": "stream",
     "text": [
      "     A          B    C  D       E            F\n",
      "0  1.0 2016-12-17  1.0  3  Python  ChinaHadoop\n",
      "1  1.0 2016-12-17  1.0  3    Java  ChinaHadoop\n",
      "2  1.0 2016-12-17  1.0  3     C++  ChinaHadoop\n",
      "3  1.0 2016-12-17  1.0  3      C#  ChinaHadoop\n"
     ]
    }
   ],
   "source": [
    "# 删除列\n",
    "del(df_obj2['G'] )\n",
    "print(df_obj2.head())"
   ]
  },
  {
   "cell_type": "markdown",
   "metadata": {},
   "source": [
    "* 索引对象 Index"
   ]
  },
  {
   "cell_type": "code",
   "execution_count": 27,
   "metadata": {},
   "outputs": [
    {
     "name": "stdout",
     "output_type": "stream",
     "text": [
      "<class 'pandas.core.indexes.range.RangeIndex'>\n",
      "<class 'pandas.core.indexes.numeric.Int64Index'>\n",
      "Int64Index([0, 1, 2, 3], dtype='int64')\n"
     ]
    }
   ],
   "source": [
    "print(type(ser_obj.index))\n",
    "print(type(df_obj2.index))\n",
    "\n",
    "print(df_obj2.index)"
   ]
  },
  {
   "cell_type": "code",
   "execution_count": 28,
   "metadata": {},
   "outputs": [
    {
     "ename": "TypeError",
     "evalue": "Index does not support mutable operations",
     "output_type": "error",
     "traceback": [
      "\u001b[1;31m---------------------------------------------------------------------------\u001b[0m",
      "\u001b[1;31mTypeError\u001b[0m                                 Traceback (most recent call last)",
      "\u001b[1;32m<ipython-input-28-6367894e76d8>\u001b[0m in \u001b[0;36m<module>\u001b[1;34m\u001b[0m\n\u001b[0;32m      1\u001b[0m \u001b[1;31m# 索引对象不可变\u001b[0m\u001b[1;33m\u001b[0m\u001b[1;33m\u001b[0m\u001b[1;33m\u001b[0m\u001b[0m\n\u001b[1;32m----> 2\u001b[1;33m \u001b[0mdf_obj2\u001b[0m\u001b[1;33m.\u001b[0m\u001b[0mindex\u001b[0m\u001b[1;33m[\u001b[0m\u001b[1;36m0\u001b[0m\u001b[1;33m]\u001b[0m \u001b[1;33m=\u001b[0m \u001b[1;36m2\u001b[0m\u001b[1;33m\u001b[0m\u001b[1;33m\u001b[0m\u001b[0m\n\u001b[0m",
      "\u001b[1;32m~\\Anaconda3\\lib\\site-packages\\pandas\\core\\indexes\\base.py\u001b[0m in \u001b[0;36m__setitem__\u001b[1;34m(self, key, value)\u001b[0m\n\u001b[0;32m   3936\u001b[0m \u001b[1;33m\u001b[0m\u001b[0m\n\u001b[0;32m   3937\u001b[0m     \u001b[1;32mdef\u001b[0m \u001b[0m__setitem__\u001b[0m\u001b[1;33m(\u001b[0m\u001b[0mself\u001b[0m\u001b[1;33m,\u001b[0m \u001b[0mkey\u001b[0m\u001b[1;33m,\u001b[0m \u001b[0mvalue\u001b[0m\u001b[1;33m)\u001b[0m\u001b[1;33m:\u001b[0m\u001b[1;33m\u001b[0m\u001b[1;33m\u001b[0m\u001b[0m\n\u001b[1;32m-> 3938\u001b[1;33m         \u001b[1;32mraise\u001b[0m \u001b[0mTypeError\u001b[0m\u001b[1;33m(\u001b[0m\u001b[1;34m\"Index does not support mutable operations\"\u001b[0m\u001b[1;33m)\u001b[0m\u001b[1;33m\u001b[0m\u001b[1;33m\u001b[0m\u001b[0m\n\u001b[0m\u001b[0;32m   3939\u001b[0m \u001b[1;33m\u001b[0m\u001b[0m\n\u001b[0;32m   3940\u001b[0m     \u001b[1;32mdef\u001b[0m \u001b[0m__getitem__\u001b[0m\u001b[1;33m(\u001b[0m\u001b[0mself\u001b[0m\u001b[1;33m,\u001b[0m \u001b[0mkey\u001b[0m\u001b[1;33m)\u001b[0m\u001b[1;33m:\u001b[0m\u001b[1;33m\u001b[0m\u001b[1;33m\u001b[0m\u001b[0m\n",
      "\u001b[1;31mTypeError\u001b[0m: Index does not support mutable operations"
     ]
    }
   ],
   "source": [
    "# 索引对象不可变\n",
    "df_obj2.index[0] = 2"
   ]
  },
  {
   "cell_type": "code",
   "execution_count": null,
   "metadata": {
    "collapsed": true
   },
   "outputs": [],
   "source": []
  }
 ],
 "metadata": {
  "anaconda-cloud": {},
  "kernelspec": {
   "display_name": "Python 3",
   "language": "python",
   "name": "python3"
  },
  "language_info": {
   "codemirror_mode": {
    "name": "ipython",
    "version": 3
   },
   "file_extension": ".py",
   "mimetype": "text/x-python",
   "name": "python",
   "nbconvert_exporter": "python",
   "pygments_lexer": "ipython3",
   "version": "3.7.1"
  }
 },
 "nbformat": 4,
 "nbformat_minor": 2
}
